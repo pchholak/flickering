{
 "cells": [
  {
   "cell_type": "code",
   "execution_count": 1,
   "id": "f9efff90",
   "metadata": {},
   "outputs": [],
   "source": [
    "%matplotlib qt\n",
    "import os\n",
    "import mne\n",
    "import scipy.io\n",
    "import numpy as np\n",
    "import os.path as op\n",
    "import matplotlib.pyplot as plt\n",
    "from mne.preprocessing import ICA, create_eog_epochs, create_ecg_epochs"
   ]
  },
  {
   "cell_type": "markdown",
   "id": "9684d7b9",
   "metadata": {},
   "source": [
    "# Clean cardiac and occular artifacts using ICA"
   ]
  },
  {
   "cell_type": "code",
   "execution_count": null,
   "id": "d3e2a8ba",
   "metadata": {},
   "outputs": [],
   "source": [
    "# Given\n",
    "fname_raw = 'run_tsss.fif'\n",
    "data_path = op.expanduser('~/data/meg/')\n",
    "fpath_raw = op.join(data_path, fname_raw)\n",
    "print(fpath_raw)"
   ]
  },
  {
   "cell_type": "code",
   "execution_count": null,
   "id": "55e1e1c1",
   "metadata": {},
   "outputs": [],
   "source": [
    "# Read data\n",
    "raw = mne.io.read_raw_fif(fpath_raw)\n",
    "raw.info"
   ]
  },
  {
   "cell_type": "code",
   "execution_count": null,
   "id": "3efece0b",
   "metadata": {},
   "outputs": [],
   "source": [
    "# pick some channels that clearly show heartbeats and blinks\n",
    "regexp = r'(MEG[12][45][123]1)'\n",
    "artifact_picks = mne.pick_channels_regexp(raw.ch_names, regexp=regexp)"
   ]
  },
  {
   "cell_type": "code",
   "execution_count": null,
   "id": "8cc1f181",
   "metadata": {
    "scrolled": true
   },
   "outputs": [],
   "source": [
    "# Find ICA compenents\n",
    "ica = ICA(n_components=15, max_iter='auto', random_state=97)\n",
    "ica.fit(raw)\n",
    "ica"
   ]
  },
  {
   "cell_type": "code",
   "execution_count": null,
   "id": "f238decb",
   "metadata": {},
   "outputs": [],
   "source": [
    "# Plot found ICA components\n",
    "ica.plot_sources(raw, show_scrollbars=False)"
   ]
  },
  {
   "cell_type": "code",
   "execution_count": null,
   "id": "6fa53132",
   "metadata": {},
   "outputs": [],
   "source": [
    "# Mark ICA components carrying ECG and EOG activity for exclusion\n",
    "ica.exclude = [0, 1] # indices chosen based on various plot above"
   ]
  },
  {
   "cell_type": "code",
   "execution_count": null,
   "id": "54782ee1",
   "metadata": {},
   "outputs": [],
   "source": [
    "# Load raw data and remove marked ICA components for exclusion\n",
    "raw.load_data()\n",
    "orig_raw = raw.copy()\n",
    "ica.apply(raw)"
   ]
  },
  {
   "cell_type": "code",
   "execution_count": null,
   "id": "dd4cf8ed",
   "metadata": {},
   "outputs": [],
   "source": [
    "# Plot to see if the results of ICA cleaning\n",
    "orig_raw.plot(order=artifact_picks, n_channels=len(artifact_picks), show_scrollbars=False)\n",
    "raw.plot(order=artifact_picks, n_channels=len(artifact_picks), show_scrollbars=False)"
   ]
  },
  {
   "cell_type": "code",
   "execution_count": null,
   "id": "17d3c26f",
   "metadata": {},
   "outputs": [],
   "source": [
    "fname_raw_clean = 'clean_raw_tsss.fif'\n",
    "fpath_raw_clean = op.join(data_path, fname_raw_clean)\n",
    "raw.save(fpath_raw_clean)"
   ]
  },
  {
   "cell_type": "markdown",
   "id": "fdaa7c06",
   "metadata": {},
   "source": [
    "# Data segmentation and calculate SSVEF"
   ]
  },
  {
   "cell_type": "code",
   "execution_count": null,
   "id": "4fcb0e8d",
   "metadata": {},
   "outputs": [],
   "source": [
    "# Given\n",
    "fs = 1000\n",
    "fname_raw = 'clean_raw_tsss.fif'\n",
    "data_path = op.expanduser('~/data/meg/')\n",
    "fpath_raw = op.join(data_path, fname_raw)\n",
    "\n",
    "# Read data\n",
    "raw = mne.io.read_raw_fif(fpath_raw)\n",
    "raw.pick(['mag'])\n",
    "\n",
    "# Show sensor locations\n",
    "# fig = plt.figure()\n",
    "# ax = fig.add_subplot(111, projection='3d')\n",
    "# raw.plot_sensors(axes=ax, kind='3d', show_names=True)\n",
    "# fig.tight_layout()\n",
    "# plt.show()\n",
    "\n",
    "# Make events object\n",
    "events = np.array([[558793, 0, 1]])\n",
    "event_dict = {'F': 1}\n",
    "\n",
    "# fig = mne.viz.plot_events(events, event_id=event_dict, sfreq=raw.info['sfreq'],\n",
    "#                          first_samp=raw.first_samp)\n",
    "\n",
    "reject_criteria = dict(mag=4000e-15)    # 4000 fT\n",
    "epochs = mne.Epochs(raw, events, event_id=event_dict, tmin=-0.2, tmax=120,\n",
    "                    reject=reject_criteria, preload=True)\n",
    "\n",
    "trial_data = np.squeeze(epochs['F'].get_data())[:, 201:]\n",
    "\n",
    "ch_vis = ['MEG1931', 'MEG2141', 'MEG1741', 'MEG1731', 'MEG1941', 'MEG1921', 'MEG2111',\n",
    "          'MEG2121', 'MEG2331', 'MEG2131', 'MEG2541', 'MEG2511', 'MEG2321', 'MEG2341']\n",
    "ch_vis_inds = [raw.ch_names.index(ch) for ch in ch_vis]\n",
    "\n",
    "x = np.mean(trial_data[ch_vis_inds, :], axis=0)\n",
    "np.save(op.join(data_path, 'ssvef.npy'), x)"
   ]
  },
  {
   "cell_type": "markdown",
   "id": "0576e608",
   "metadata": {},
   "source": [
    "# Calculate Fourier and Hilbert Spectra"
   ]
  },
  {
   "cell_type": "code",
   "execution_count": 2,
   "id": "3448e9ee",
   "metadata": {},
   "outputs": [],
   "source": [
    "import pandas as pd\n",
    "from PyEMD import EMD\n",
    "from scipy.signal import hilbert\n",
    "\n",
    "plt.rcParams['font.size'] = 14"
   ]
  },
  {
   "cell_type": "code",
   "execution_count": 3,
   "id": "16b53ff4",
   "metadata": {},
   "outputs": [],
   "source": [
    "from scipy import signal\n",
    "\n",
    "def __detrend(data, detrend_type='linear', bp=0):\n",
    "    \"\"\"\n",
    "    Remove linear trend along second axis from 2D array-like object `data`.\n",
    "                            [Adapted from MNE-Python]\n",
    "    \"\"\"\n",
    "    axis = -1\n",
    "    if detrend_type not in ['linear', 'l', 'constant', 'c']:\n",
    "        raise ValueError(\"Trend type must be 'linear' or 'constant'.\")\n",
    "    data = np.asarray(data)\n",
    "    if detrend_type in ['constant', 'c']:\n",
    "        data_detrended = data - np.mean(data, axis, keepdims=True)\n",
    "        return data_detrended\n",
    "    else:\n",
    "        dshape = data.shape\n",
    "        N = dshape[axis]\n",
    "        bp = np.sort(np.unique(np.r_[0, bp, N]))\n",
    "        if np.any(bp > N):\n",
    "            raise ValueError(\"Breakpoints must be less than length \"\n",
    "                             \"of data along given axis.\")\n",
    "        Nreg = len(bp) - 1\n",
    "        # Find leastsq fit and remove it for each piece\n",
    "        newdata = data.T\n",
    "        for m in range(Nreg):\n",
    "            Npts = bp[m + 1] - bp[m]\n",
    "            A = np.ones((Npts, 2))\n",
    "            A[:, 0] = np.arange(1, Npts+1) / Npts\n",
    "            sl = slice(bp[m], bp[m+1])\n",
    "            coef, _, _, _ = np.linalg.lstsq(A, newdata[sl], rcond=None)\n",
    "            newdata[sl] = newdata[sl] - np.dot(A, coef)\n",
    "        data_detrended = newdata.T\n",
    "\n",
    "        return data_detrended\n",
    "    \n",
    "def computeFFTPSD(X, Fs, detrend=None, window=None, plot_psd=None):\n",
    "    '''\n",
    "    Compute the Fourier power spectral density of 1-D signal 'X' sampled at frequency `Fs`.\n",
    "    '''\n",
    "\n",
    "    # Detrend data\n",
    "    if detrend and detrend is not None:\n",
    "        X = __detrend(X)\n",
    "\n",
    "    # Window size\n",
    "    n = np.size(X, -1)\n",
    "\n",
    "    # Windowing\n",
    "    if window and window is not None:\n",
    "        if window == 'hamming':\n",
    "            w = np.hamming(n)\n",
    "        elif window == 'hanning':\n",
    "            w = np.hanning(n)\n",
    "        elif window == 'cosine':\n",
    "            w = signal.tukey(n)\n",
    "        X = w * X\n",
    "\n",
    "    # FFT using Numpy\n",
    "    Xhat = np.fft.rfft(X)\n",
    "    psd = np.real(Xhat * np.conj(Xhat)) / n # FFT PSD\n",
    "    freq = Fs / n * np.arange(n)\n",
    "    k = np.arange(1, np.floor(n / 2), dtype='int') # Only use the first half of frequencies\n",
    "    freq = freq[k]; psd = psd[k];\n",
    "\n",
    "\n",
    "    # Plot power spectrum\n",
    "    if plot_psd and plot_psd is not None:\n",
    "        plt.figure()\n",
    "        plt.plot(freq, psd)\n",
    "        plt.xlim([0, 50])\n",
    "        plt.xlabel('Frequency [Hz]')\n",
    "        plt.ylabel('Power Spectral Density [V2/Hz]')\n",
    "        plt.show()\n",
    "\n",
    "    return psd, freq\n",
    "\n",
    "def calculate_hilbert_spectrum(imfs, t, fs, n=5, plot_hilbert_spec=None, plot_inst_freq=None):\n",
    "    '''\n",
    "    Calculate hilbert amplitude spectrum from a given set of intrinsic mode functions.\n",
    "    '''\n",
    "\n",
    "    ## Create Hilbert spectrum\n",
    "    T = t[-1] - t[0]; delta_t = 1 / fs\n",
    "    fmin = fres = 1 / T; fmax = 1 / (n * delta_t)\n",
    "    N = int(T / (n * delta_t))\n",
    "    bin_centres = np.arange(N) * fres + fmin\n",
    "    bin_edges = np.arange(N + 1) * fres + (fmin - fres / 2)\n",
    "\n",
    "    hht = np.zeros((len(imfs), N, (len(t) - 2)))\n",
    "\n",
    "    for j, imf in enumerate(imfs):\n",
    "        Z = hilbert(imf)\n",
    "        A = np.abs(Z)\n",
    "        theta_inst = np.unwrap(np.angle(Z))\n",
    "        f_inst = np.r_[np.nan,\n",
    "                       0.5 * (np.angle(-Z[2:] * np.conj(Z[:-2])) + np.pi) / (2 * np.pi) * fs,\n",
    "                       np.nan]\n",
    "        t_spec = t[1:-1]; A_spec = A[1:-1]; f_spec = f_inst[1:-1]\n",
    "\n",
    "        # Plot instantaneous frequency curves\n",
    "        if plot_inst_freq and plot_inst_freq is not None:\n",
    "            fig, (ax0, ax1) = plt.subplots(nrows=2)\n",
    "            ax0.plot(t, imf, label='signal')\n",
    "            ax0.plot(t, A, label='envelope')\n",
    "            ax0.set_xlabel(\"time (s)\")\n",
    "            ax0.set_ylabel(\"signal (units)\")\n",
    "            ax0.legend()\n",
    "            ax1.plot(t_spec, f_spec)\n",
    "            ax1.set_xlabel(\"time (s)\")\n",
    "            ax1.set_ylabel(\"frequency (Hz)\")\n",
    "            fig.tight_layout()\n",
    "            plt.show()\n",
    "\n",
    "        # Binning of frequency values\n",
    "        binned_freq = pd.cut(f_spec, bin_edges)\n",
    "        bin_inds = binned_freq.codes\n",
    "\n",
    "        # Populate Hilbert spectrum matrix\n",
    "        for i, bin_ind in enumerate(bin_inds):\n",
    "            if bin_ind > 0:\n",
    "                hht[j][bin_ind][i] = A_spec[i]\n",
    "            else:\n",
    "                pass\n",
    "\n",
    "    hht_sum = np.sum(hht, axis=0)\n",
    "    \n",
    "    # Plot Hilbert spectrum for all IMFs\n",
    "    if plot_hilbert_spec and plot_hilbert_spec is not None:\n",
    "        plt.figure()\n",
    "        plt.pcolormesh(t_spec, bin_centres, hht_sum)\n",
    "        plt.xlabel('Time (s)')\n",
    "        plt.ylabel('Frequency (Hz)')\n",
    "        plt.show()\n",
    "        \n",
    "    return hht_sum"
   ]
  },
  {
   "cell_type": "code",
   "execution_count": 11,
   "id": "22b14109",
   "metadata": {},
   "outputs": [],
   "source": [
    "# Given\n",
    "data_path = op.expanduser('~/data/meg/')\n",
    "fs = 1000\n",
    "x = np.load(op.join(data_path, 'ssvef.npy'))\n",
    "x = x / np.mean(np.abs(x))\n",
    "# t = np.arange(0, len(x)/fs, 1/fs)\n",
    "t = np.arange(0, 2001/fs, 1/fs); x = x[:len(t)]"
   ]
  },
  {
   "cell_type": "code",
   "execution_count": 12,
   "id": "9a3d578d",
   "metadata": {},
   "outputs": [],
   "source": [
    "## Fourier Spectrum\n",
    "computeFFTPSD(x, fs, detrend=True, window=\"hamming\", plot_psd=True);"
   ]
  },
  {
   "cell_type": "code",
   "execution_count": 13,
   "id": "59f993c6",
   "metadata": {},
   "outputs": [
    {
     "name": "stdout",
     "output_type": "stream",
     "text": [
      "(8, 2001)\n"
     ]
    }
   ],
   "source": [
    "## Hilbert Spectrum\n",
    "# EMD\n",
    "emd_decomp = EMD()\n",
    "imfs = emd_decomp(x)\n",
    "print(imfs.shape)\n",
    "C = imfs[:-1]"
   ]
  },
  {
   "cell_type": "code",
   "execution_count": 14,
   "id": "6249342d",
   "metadata": {},
   "outputs": [
    {
     "name": "stderr",
     "output_type": "stream",
     "text": [
      "/var/folders/mc/t78cdvqx443cmt0dpm16qhy00000gn/T/ipykernel_55815/683653138.py:15: UserWarning: Tight layout not applied. tight_layout cannot make axes height small enough to accommodate all axes decorations.\n",
      "  plt.tight_layout()\n"
     ]
    }
   ],
   "source": [
    "# Visualize EMD\n",
    "plt.figure(figsize=(12, 12))\n",
    "for i in range(len(imfs)-1):\n",
    "    plt.subplot(len(imfs)+1, 1, i+1)\n",
    "    plt.plot(t, x, color='0.8')\n",
    "    plt.plot(t, imfs[i], 'k')\n",
    "    plt.xlim([np.min(t), np.max(t)])\n",
    "    plt.ylabel('IMF ' + str(i + 1))\n",
    "plt.subplot(len(imfs)+1, 1, i+2)\n",
    "plt.plot(t, x, color='0.8')\n",
    "plt.plot(t, imfs[-1], 'k')\n",
    "plt.xlim([np.min(t), np.max(t)])\n",
    "plt.ylabel('Residual')\n",
    "plt.xlabel('Time (s)')\n",
    "plt.tight_layout()\n",
    "plt.show()"
   ]
  },
  {
   "cell_type": "code",
   "execution_count": 15,
   "id": "1501ac4b",
   "metadata": {},
   "outputs": [],
   "source": [
    "hht = calculate_hilbert_spectrum(C, t, fs, plot_hilbert_spec=True)"
   ]
  },
  {
   "cell_type": "code",
   "execution_count": null,
   "id": "aaf25212",
   "metadata": {},
   "outputs": [],
   "source": []
  }
 ],
 "metadata": {
  "kernelspec": {
   "display_name": "Python [conda env:mne]",
   "language": "python",
   "name": "conda-env-mne-py"
  },
  "language_info": {
   "codemirror_mode": {
    "name": "ipython",
    "version": 3
   },
   "file_extension": ".py",
   "mimetype": "text/x-python",
   "name": "python",
   "nbconvert_exporter": "python",
   "pygments_lexer": "ipython3",
   "version": "3.9.10"
  }
 },
 "nbformat": 4,
 "nbformat_minor": 5
}
